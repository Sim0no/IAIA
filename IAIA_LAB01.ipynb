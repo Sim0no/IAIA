{
  "nbformat": 4,
  "nbformat_minor": 0,
  "metadata": {
    "colab": {
      "name": "IAIA LAB01.ipynb",
      "provenance": [],
      "collapsed_sections": [],
      "include_colab_link": true
    },
    "kernelspec": {
      "name": "python3",
      "display_name": "Python 3"
    }
  },
  "cells": [
    {
      "cell_type": "markdown",
      "metadata": {
        "id": "view-in-github",
        "colab_type": "text"
      },
      "source": [
        "<a href=\"https://colab.research.google.com/github/Sim0no/IAIA/blob/master/IAIA_LAB01.ipynb\" target=\"_parent\"><img src=\"https://colab.research.google.com/assets/colab-badge.svg\" alt=\"Open In Colab\"/></a>"
      ]
    },
    {
      "cell_type": "code",
      "metadata": {
        "id": "26Ub-vfj6gso",
        "colab_type": "code",
        "colab": {}
      },
      "source": [
        "import copy\n",
        "\n",
        "class Busqueda:\n",
        "  def __init__(self, estado):\n",
        "    self.e = estado\n",
        "\n",
        "  def inicial(self):\n",
        "    \"\"\" Conocer el estado del tablero inicial \n",
        "        Returns:\n",
        "        e: TEstado\"\"\"\n",
        "    return self.e    \n",
        "  \n",
        "  def sucesores(self, ej):\n",
        "    \"\"\" Conocer todas las posibles siguientes jugadas \n",
        "        Parameters:\n",
        "        ej: TEstado\n",
        "\n",
        "        Returns:\n",
        "        secuencia de estados.\"\"\"\n",
        "    return ej.get_hijos()\n",
        "    \n",
        "  def jugador(self, ej):\n",
        "    \"\"\" Conocer la identificación del jugador en turno.\n",
        "        Parameters:\n",
        "        ej: TEstado\n",
        "        \n",
        "        Returns:\n",
        "        j: TJugador\"\"\"\n",
        "    j = ej.get_jugador()\n",
        "    return j\n",
        "\n",
        "  def utilidad(self, e, j):\n",
        "    \"\"\"Conocer el valor estático de un tablero para un jugador\n",
        "        \n",
        "        Parameters:\n",
        "        e: TEstado\n",
        "        j: Tjugador\n",
        "        \n",
        "        Returns:\n",
        "        int: valor del tablero para j \"\"\"\n",
        "    if e.esFinal:\n",
        "      return e.valor\n",
        "  def max_value(self,t,m):\n",
        "    \"\"\"     \n",
        "        Parameters:\n",
        "        t: TEstado\n",
        "        m: int\n",
        "    \"\"\"\n",
        "    if t.esFinal:\n",
        "      return self.utilidad(t,t.jugador)\n",
        "    elif m == 0:\n",
        "      return self.utilidad(t,t.jugador)\n",
        "    else:\n",
        "        t.valor = max(self.min_value(s,m-1) for s in self.sucesores(t))        \n",
        "        t.esFinal=True\n",
        "        return t.valor\n",
        "    \n",
        "  def min_value(self,t,m):\n",
        "    \"\"\"     \n",
        "        Parameters:\n",
        "        t: TEstado\n",
        "        m: int\n",
        "    \"\"\"\n",
        "    if t.esFinal:\n",
        "      return self.utilidad(t,t.jugador)\n",
        "    elif m == 0:\n",
        "      return self.utilidad(t,t.jugador)\n",
        "    else:\n",
        "        t.valor = min(self.max_value(s,m-1) for s in self.sucesores(t))\n",
        "        t.esFinal=True\n",
        "        return t.valor\n",
        "\n",
        "  def minMax (self,ej, j, m):\n",
        "    \"\"\" Conocer el valor dinámico de un estado de juego para un jugado\n",
        "\n",
        "      Parameters:\n",
        "\n",
        "      ej: TEstado\n",
        "      j: TJugador\n",
        "      m: int\n",
        "\n",
        "      Returns:\n",
        "\n",
        "       v: int\n",
        "    \"\"\"\n",
        "    #J1 -> Max\n",
        "    #J2 -> Min\n",
        "    if j.get_id()==\"J1\":\n",
        "      self.max_value(ej,m)\n",
        "    if j.get_id()==\"J2\":\n",
        "      self.min_value(ej,m)\n",
        "    return ej.get_valor()\n",
        "\n",
        "\n",
        "\n",
        "\n",
        "\n",
        "class Jugador:\n",
        "  def __init__(self, id):\n",
        "    self.id=id\n",
        "  def __str__(self):\n",
        "    return self.id\n",
        "  def get_id(self):\n",
        "    return self.id\n",
        "\n",
        "  def set_id(self, id):\n",
        "    self.id = id\n",
        "\n",
        "\n",
        "\n",
        "##Representa un estado del tablero\n",
        "class TEstado:\n",
        "  def __init__(self, id, jugador, valor=None, hijos=[],esFinal=False):\n",
        "    self.id = id\n",
        "    self.esFinal = esFinal\n",
        "    self.valor = valor\n",
        "    self.jugador = jugador\n",
        "    self.hijos = hijos\n",
        "    self.__index = -1 #Private attribute\n",
        "  \n",
        "  def __iter__(self):\n",
        "    return self\n",
        "  \n",
        "  def __next__(self):\n",
        "    if self.__index == len(self.hijos)-1:\n",
        "      raise StopIteration\n",
        "    self.__index = self.__index + 1\n",
        "    return self.hijos[self.__index]\n",
        "\n",
        "  def __str__(self):\n",
        "    return 'E' + str(self.id)\n",
        "  \n",
        "  def get_id(self):\n",
        "    return self.id\n",
        "\n",
        "  def set_id(self, id):\n",
        "    self.id = id\n",
        "\n",
        "  def jugador(self):\n",
        "    return self.jugador\n",
        "\n",
        "  def set_jugador(self, jugador):\n",
        "    self.jugador = jugador\n",
        "  \n",
        "  def get_valor(self):\n",
        "    return self.valor\n",
        "  \n",
        "  def set_valor(self, valor):\n",
        "    self.valor = valor\n",
        "  \n",
        "  def final(self):\n",
        "    self.esFinal = True\n",
        "  \n",
        "  def get_hijos(self):\n",
        "    return self.hijos\n",
        "\n",
        "\n",
        "\n",
        "\n",
        "\n",
        "\n",
        "\n",
        "\n",
        "\n",
        "\n",
        "\n",
        "\n",
        "\n",
        "\n",
        "\n",
        "\n",
        "\n",
        "\n",
        "\n",
        "\n",
        "\n",
        "\n",
        "\n",
        "\n",
        "\n",
        "\n",
        "\n",
        "\n",
        "\n",
        "   "
      ],
      "execution_count": 0,
      "outputs": []
    },
    {
      "cell_type": "code",
      "metadata": {
        "id": "8a1kmDT2aeiJ",
        "colab_type": "code",
        "outputId": "7b715a48-5c4d-45e4-93db-a8f0d176c4bd",
        "colab": {
          "base_uri": "https://localhost:8080/",
          "height": 231
        }
      },
      "source": [
        "max = Jugador(\"J1\")\n",
        "min = Jugador(\"J2\")\n",
        "e = TEstado(1, max, None,[TEstado(11, min, None,[TEstado(111, max, 3,[],True),TEstado(112, max, 12,[],True),TEstado(113, max, 8,[],True)]),\n",
        "                          TEstado(12, min, None,[TEstado(121, max, 2,[],True),TEstado(122, max, 4,[],True),TEstado(123, max, 6,[],True)]),\n",
        "                          TEstado(13, min, None,[TEstado(131, max, 14,[],True),TEstado(132, max, 5,[],True),TEstado(133, max, 2,[],True)])])\n",
        "b=Busqueda(e)\n",
        "z = TEstado(1, max, None,[TEstado(11,min,None,[TEstado(111,max,None,[TEstado(1111,min,8,[],True),TEstado(1112,min,7,[],True),TEstado(1113,min,2,[],True)]),TEstado(112,max,None,[TEstado(1121,min,9,[],True),TEstado(1122,min,1,[],True),TEstado(1123,min,6,[],True)]),TEstado(113,max,None,[TEstado(1131,min,2,[],True),TEstado(1132,min,4,[],True),TEstado(1133,min,1,[],True)])]),                              \n",
        "                          TEstado(12,min,None,[TEstado(121,max,None,[TEstado(1211,min,1,[],True),TEstado(1212,min,3,[],True),TEstado(1213,min,5,[],True)]),TEstado(122,max,None,[TEstado(1221,min,3,[],True),TEstado(1222,min,9,[],True),TEstado(1223,min,2,[],True)]),TEstado(123,max,None,[TEstado(1231,min,3,[],True),TEstado(1232,min,5,[],True),TEstado(1233,min,2,[],True)])]),\n",
        "                          TEstado(13,min,None,[TEstado(131,max,None,[TEstado(1311,min,1,[],True),TEstado(1312,min,2,[],True),TEstado(1313,min,3,[],True)]),TEstado(132,max,None,[TEstado(1321,min,9,[],True),TEstado(1322,min,7,[],True),TEstado(1323,min,2,[],True)]),TEstado(133,max,None,[TEstado(1331,min,16,[],True),TEstado(1332,min,6,[],True),TEstado(1333,min,4,[],True)])])])\n",
        "    \n",
        "print(b.minMax(e,max,2))\n",
        "print(b.minMax(z,max,3))"
      ],
      "execution_count": 40,
      "outputs": [
        {
          "output_type": "error",
          "ename": "TypeError",
          "evalue": "ignored",
          "traceback": [
            "\u001b[0;31m---------------------------------------------------------------------------\u001b[0m",
            "\u001b[0;31mTypeError\u001b[0m                                 Traceback (most recent call last)",
            "\u001b[0;32m<ipython-input-40-1ca410dc769f>\u001b[0m in \u001b[0;36m<module>\u001b[0;34m()\u001b[0m\n\u001b[1;32m      1\u001b[0m \u001b[0mmax\u001b[0m \u001b[0;34m=\u001b[0m \u001b[0mJugador\u001b[0m\u001b[0;34m(\u001b[0m\u001b[0;34m\"J1\"\u001b[0m\u001b[0;34m)\u001b[0m\u001b[0;34m\u001b[0m\u001b[0;34m\u001b[0m\u001b[0m\n\u001b[1;32m      2\u001b[0m \u001b[0mmin\u001b[0m \u001b[0;34m=\u001b[0m \u001b[0mJugador\u001b[0m\u001b[0;34m(\u001b[0m\u001b[0;34m\"J2\"\u001b[0m\u001b[0;34m)\u001b[0m\u001b[0;34m\u001b[0m\u001b[0;34m\u001b[0m\u001b[0m\n\u001b[0;32m----> 3\u001b[0;31m e = TEstado(1, max, None,[TEstado(11, min, None,[TEstado(111, max, 3,[],True),TEstado(112, max, 12,[],True),TEstado(113, max, 8,[],True)]),\n\u001b[0m\u001b[1;32m      4\u001b[0m                           \u001b[0mTEstado\u001b[0m\u001b[0;34m(\u001b[0m\u001b[0;36m12\u001b[0m\u001b[0;34m,\u001b[0m \u001b[0mmin\u001b[0m\u001b[0;34m,\u001b[0m \u001b[0;32mNone\u001b[0m\u001b[0;34m,\u001b[0m\u001b[0;34m[\u001b[0m\u001b[0mTEstado\u001b[0m\u001b[0;34m(\u001b[0m\u001b[0;36m121\u001b[0m\u001b[0;34m,\u001b[0m \u001b[0mmax\u001b[0m\u001b[0;34m,\u001b[0m \u001b[0;36m2\u001b[0m\u001b[0;34m,\u001b[0m\u001b[0;34m[\u001b[0m\u001b[0;34m]\u001b[0m\u001b[0;34m,\u001b[0m\u001b[0;32mTrue\u001b[0m\u001b[0;34m)\u001b[0m\u001b[0;34m,\u001b[0m\u001b[0mTEstado\u001b[0m\u001b[0;34m(\u001b[0m\u001b[0;36m122\u001b[0m\u001b[0;34m,\u001b[0m \u001b[0mmax\u001b[0m\u001b[0;34m,\u001b[0m \u001b[0;36m4\u001b[0m\u001b[0;34m,\u001b[0m\u001b[0;34m[\u001b[0m\u001b[0;34m]\u001b[0m\u001b[0;34m,\u001b[0m\u001b[0;32mTrue\u001b[0m\u001b[0;34m)\u001b[0m\u001b[0;34m,\u001b[0m\u001b[0mTEstado\u001b[0m\u001b[0;34m(\u001b[0m\u001b[0;36m123\u001b[0m\u001b[0;34m,\u001b[0m \u001b[0mmax\u001b[0m\u001b[0;34m,\u001b[0m \u001b[0;36m6\u001b[0m\u001b[0;34m,\u001b[0m\u001b[0;34m[\u001b[0m\u001b[0;34m]\u001b[0m\u001b[0;34m,\u001b[0m\u001b[0;32mTrue\u001b[0m\u001b[0;34m)\u001b[0m\u001b[0;34m]\u001b[0m\u001b[0;34m)\u001b[0m\u001b[0;34m,\u001b[0m\u001b[0;34m\u001b[0m\u001b[0;34m\u001b[0m\u001b[0m\n\u001b[1;32m      5\u001b[0m                           TEstado(13, min, None,[TEstado(131, max, 14,[],True),TEstado(132, max, 5,[],True),TEstado(133, max, 2,[],True)])])\n",
            "\u001b[0;31mTypeError\u001b[0m: __init__() takes from 3 to 5 positional arguments but 6 were given"
          ]
        }
      ]
    },
    {
      "cell_type": "code",
      "metadata": {
        "id": "_fvSA7It1xNS",
        "colab_type": "code",
        "outputId": "112067b3-e048-4aba-ec20-7a4adc48bac7",
        "colab": {
          "base_uri": "https://localhost:8080/",
          "height": 68
        }
      },
      "source": [
        "for hijo in e:\n",
        "  for nieto in hijo:\n",
        "    print(nieto)"
      ],
      "execution_count": 0,
      "outputs": [
        {
          "output_type": "stream",
          "text": [
            "E111\n",
            "E112\n",
            "E121\n"
          ],
          "name": "stdout"
        }
      ]
    },
    {
      "cell_type": "code",
      "metadata": {
        "id": "GyMzj1xE2B2Q",
        "colab_type": "code",
        "outputId": "1f44037e-9535-4796-d553-f207a76f8a94",
        "colab": {
          "base_uri": "https://localhost:8080/",
          "height": 357
        }
      },
      "source": [
        ""
      ],
      "execution_count": 0,
      "outputs": [
        {
          "output_type": "stream",
          "text": [
            "E1 max\n"
          ],
          "name": "stdout"
        },
        {
          "output_type": "error",
          "ename": "TypeError",
          "evalue": "ignored",
          "traceback": [
            "\u001b[0;31m---------------------------------------------------------------------------\u001b[0m",
            "\u001b[0;31mTypeError\u001b[0m                                 Traceback (most recent call last)",
            "\u001b[0;32m<ipython-input-30-3b4f269055e7>\u001b[0m in \u001b[0;36m<module>\u001b[0;34m()\u001b[0m\n\u001b[1;32m      9\u001b[0m \u001b[0;31m#print(e.final())\u001b[0m\u001b[0;34m\u001b[0m\u001b[0;34m\u001b[0m\u001b[0;34m\u001b[0m\u001b[0m\n\u001b[1;32m     10\u001b[0m \u001b[0;31m#print(e)\u001b[0m\u001b[0;34m\u001b[0m\u001b[0;34m\u001b[0m\u001b[0;34m\u001b[0m\u001b[0m\n\u001b[0;32m---> 11\u001b[0;31m \u001b[0mprint\u001b[0m\u001b[0;34m(\u001b[0m\u001b[0mb\u001b[0m\u001b[0;34m.\u001b[0m\u001b[0mminMax\u001b[0m\u001b[0;34m(\u001b[0m\u001b[0me\u001b[0m\u001b[0;34m,\u001b[0m\u001b[0mmax\u001b[0m\u001b[0;34m,\u001b[0m\u001b[0;36m2\u001b[0m\u001b[0;34m)\u001b[0m\u001b[0;34m)\u001b[0m\u001b[0;34m\u001b[0m\u001b[0;34m\u001b[0m\u001b[0m\n\u001b[0m",
            "\u001b[0;32m<ipython-input-28-685d90ab0ddc>\u001b[0m in \u001b[0;36mminMax\u001b[0;34m(self, ej, j, m)\u001b[0m\n\u001b[1;32m     87\u001b[0m     \u001b[0;31m#J2 -> Min\u001b[0m\u001b[0;34m\u001b[0m\u001b[0;34m\u001b[0m\u001b[0;34m\u001b[0m\u001b[0m\n\u001b[1;32m     88\u001b[0m     \u001b[0;32mif\u001b[0m \u001b[0mj\u001b[0m\u001b[0;34m.\u001b[0m\u001b[0mget_id\u001b[0m\u001b[0;34m(\u001b[0m\u001b[0;34m)\u001b[0m\u001b[0;34m==\u001b[0m\u001b[0;34m\"J1\"\u001b[0m\u001b[0;34m:\u001b[0m\u001b[0;34m\u001b[0m\u001b[0;34m\u001b[0m\u001b[0m\n\u001b[0;32m---> 89\u001b[0;31m       \u001b[0mself\u001b[0m\u001b[0;34m.\u001b[0m\u001b[0mmax_value\u001b[0m\u001b[0;34m(\u001b[0m\u001b[0mej\u001b[0m\u001b[0;34m,\u001b[0m\u001b[0mm\u001b[0m\u001b[0;34m)\u001b[0m\u001b[0;34m\u001b[0m\u001b[0;34m\u001b[0m\u001b[0m\n\u001b[0m\u001b[1;32m     90\u001b[0m     \u001b[0;32mif\u001b[0m \u001b[0mj\u001b[0m\u001b[0;34m.\u001b[0m\u001b[0mget_id\u001b[0m\u001b[0;34m(\u001b[0m\u001b[0;34m)\u001b[0m\u001b[0;34m==\u001b[0m\u001b[0;34m\"J2\"\u001b[0m\u001b[0;34m:\u001b[0m\u001b[0;34m\u001b[0m\u001b[0;34m\u001b[0m\u001b[0m\n\u001b[1;32m     91\u001b[0m       \u001b[0mself\u001b[0m\u001b[0;34m.\u001b[0m\u001b[0mmin_value\u001b[0m\u001b[0;34m(\u001b[0m\u001b[0mej\u001b[0m\u001b[0;34m,\u001b[0m\u001b[0mm\u001b[0m\u001b[0;34m)\u001b[0m\u001b[0;34m\u001b[0m\u001b[0;34m\u001b[0m\u001b[0m\n",
            "\u001b[0;32m<ipython-input-28-685d90ab0ddc>\u001b[0m in \u001b[0;36mmax_value\u001b[0;34m(self, t, m)\u001b[0m\n\u001b[1;32m     53\u001b[0m     \u001b[0;32mif\u001b[0m \u001b[0mm\u001b[0m \u001b[0;34m==\u001b[0m \u001b[0;36m0\u001b[0m\u001b[0;34m:\u001b[0m\u001b[0;34m\u001b[0m\u001b[0;34m\u001b[0m\u001b[0m\n\u001b[1;32m     54\u001b[0m       \u001b[0;32mreturn\u001b[0m \u001b[0mself\u001b[0m\u001b[0;34m.\u001b[0m\u001b[0mutilidad\u001b[0m\u001b[0;34m(\u001b[0m\u001b[0mt\u001b[0m\u001b[0;34m,\u001b[0m\u001b[0mt\u001b[0m\u001b[0;34m.\u001b[0m\u001b[0mjugador\u001b[0m\u001b[0;34m)\u001b[0m\u001b[0;34m\u001b[0m\u001b[0;34m\u001b[0m\u001b[0m\n\u001b[0;32m---> 55\u001b[0;31m     \u001b[0mt\u001b[0m\u001b[0;34m.\u001b[0m\u001b[0mset_valor\u001b[0m\u001b[0;34m(\u001b[0m \u001b[0mmax\u001b[0m\u001b[0;34m(\u001b[0m\u001b[0mself\u001b[0m\u001b[0;34m.\u001b[0m\u001b[0mmin_value\u001b[0m\u001b[0;34m(\u001b[0m\u001b[0ms\u001b[0m\u001b[0;34m,\u001b[0m\u001b[0mm\u001b[0m\u001b[0;34m-\u001b[0m\u001b[0;36m1\u001b[0m\u001b[0;34m)\u001b[0m \u001b[0;32mfor\u001b[0m \u001b[0ms\u001b[0m \u001b[0;32min\u001b[0m \u001b[0mself\u001b[0m\u001b[0;34m.\u001b[0m\u001b[0msucesores\u001b[0m\u001b[0;34m(\u001b[0m\u001b[0mt\u001b[0m\u001b[0;34m)\u001b[0m\u001b[0;34m)\u001b[0m\u001b[0;34m)\u001b[0m\u001b[0;34m\u001b[0m\u001b[0;34m\u001b[0m\u001b[0m\n\u001b[0m\u001b[1;32m     56\u001b[0m     \u001b[0mt\u001b[0m\u001b[0;34m.\u001b[0m\u001b[0mfinal\u001b[0m\u001b[0;34m(\u001b[0m\u001b[0;34m)\u001b[0m\u001b[0;34m\u001b[0m\u001b[0;34m\u001b[0m\u001b[0m\n\u001b[1;32m     57\u001b[0m     \u001b[0;31m#return max(min_value(s,m-1) for s in self.sucesores(t))\u001b[0m\u001b[0;34m\u001b[0m\u001b[0;34m\u001b[0m\u001b[0;34m\u001b[0m\u001b[0m\n",
            "\u001b[0;31mTypeError\u001b[0m: 'Jugador' object is not callable"
          ]
        }
      ]
    },
    {
      "cell_type": "code",
      "metadata": {
        "id": "PsbUCZWSn6e5",
        "colab_type": "code",
        "colab": {}
      },
      "source": [
        ""
      ],
      "execution_count": 0,
      "outputs": []
    }
  ]
}